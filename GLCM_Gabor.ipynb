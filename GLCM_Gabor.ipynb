{
 "cells": [
  {
   "cell_type": "code",
   "execution_count": 1,
   "metadata": {},
   "outputs": [],
   "source": [
    "import os\n",
    "import cv2\n",
    "\n",
    "def convert_images_to_grayscale(input_folder, output_folder):\n",
    "    # Create the output folder if it doesn't exist\n",
    "    if not os.path.exists(output_folder):\n",
    "        os.makedirs(output_folder)\n",
    "\n",
    "    # Get a list of all files in the input folder\n",
    "    image_files = os.listdir(input_folder)\n",
    "\n",
    "    for image_file in image_files:\n",
    "        # Create the input and output file paths\n",
    "        input_path = os.path.join(input_folder, image_file)\n",
    "        output_path = os.path.join(output_folder, image_file)\n",
    "\n",
    "        # Read the image in RGB format\n",
    "        image = cv2.imread(input_path)\n",
    "\n",
    "        # Convert the image to grayscale\n",
    "        gray_image = cv2.cvtColor(image, cv2.COLOR_BGR2GRAY)\n",
    "\n",
    "        # Save the grayscale image\n",
    "        cv2.imwrite(output_path, gray_image)\n",
    "\n",
    "if __name__ == \"__main__\":\n",
    "    # Specify the input and output folders\n",
    "    input_folder = r\"D:\\downloads\\Dataset_extracted_from_original\\Scratch\"\n",
    "    output_folder = r\"D:\\downloads\\Dataset_extracted_from_original\\scratch2\"\n",
    "\n",
    "    # Call the function to convert images to grayscale\n",
    "    convert_images_to_grayscale(input_folder, output_folder)\n",
    "\n"
   ]
  },
  {
   "cell_type": "code",
   "execution_count": 2,
   "metadata": {},
   "outputs": [],
   "source": [
    "import numpy as np\n",
    "from skimage.feature import graycomatrix\n",
    "#from skimage.feature import greycomatrix, greycoprops\n",
    "from skimage.feature import graycoprops\n",
    "from skimage.filters import gabor\n",
    "from skimage import color, io\n",
    "import cv2"
   ]
  },
  {
   "cell_type": "code",
   "execution_count": 3,
   "metadata": {},
   "outputs": [],
   "source": [
    "def extract_glcm_features(image):\n",
    "    \n",
    "#     # Convert to RGB if necessary\n",
    "#     if image.shape[-1] == 4:\n",
    "#         image = cv2.cvtColor(image, cv2.COLOR_RGBA2RGB)\n",
    "        \n",
    "#     # Convert the image to grayscale\n",
    "#     gray_image = color.rgb2gray(image)\n",
    "#     cv2.imshow('RGB Image', image)\n",
    "#     cv2.imshow('Grayscale Image', gray_image)\n",
    "#     cv2.waitKey(0)\n",
    "#     cv2.destroyAllWindows()\n",
    "    \n",
    "        # Compute GLCM properties\n",
    "    distances = [1]\n",
    "    angles = [0, np.pi/4, np.pi/2, 3*np.pi/4]\n",
    "    glcm = graycomatrix(image, distances=distances, angles=angles, levels=256, symmetric=True, normed=True)\n",
    "    glcm_props = ['contrast', 'dissimilarity', 'homogeneity', 'energy', 'correlation']\n",
    "    glcm_features = [graycoprops(glcm, prop).ravel() for prop in glcm_props]\n",
    "    return np.concatenate(glcm_features)"
   ]
  },
  {
   "cell_type": "code",
   "execution_count": 5,
   "metadata": {},
   "outputs": [],
   "source": [
    "def extract_gabor_features(image):\n",
    "    # Convert the image to grayscale\n",
    "#     gray_image = color.rgb2gray(image)\n",
    "\n",
    "    # Define Gabor filter parameters\n",
    "    frequencies = [0.1, 0.5]\n",
    "    thetas = [0, np.pi/4, np.pi/2, 3*np.pi/4]\n",
    "\n",
    "    # Compute Gabor filter responses\n",
    "    gabor_features = []\n",
    "    for freq in frequencies:\n",
    "        for theta in thetas:\n",
    "            filt_real, filt_imag = gabor(image, frequency=freq, theta=theta)\n",
    "            gabor_features.append(np.mean(filt_real))\n",
    "            gabor_features.append(np.std(filt_real))\n",
    "            gabor_features.append(np.mean(filt_imag))\n",
    "            gabor_features.append(np.std(filt_imag))\n",
    "\n",
    "    return np.array(gabor_features)\n"
   ]
  },
  {
   "cell_type": "code",
   "execution_count": 6,
   "metadata": {},
   "outputs": [
    {
     "name": "stdout",
     "output_type": "stream",
     "text": [
      "[43.18161387 83.39718368 44.86841059 81.42215295  2.58680895  3.62148582\n",
      "  2.59619618  3.54648611  0.65784826  0.62153607  0.67090408  0.62195208\n",
      "  0.31806565  0.31100992  0.31959991  0.31106608  0.99015129  0.98099749\n",
      "  0.98976657  0.98144751]\n"
     ]
    }
   ],
   "source": [
    "# Path to the image file\n",
    "image_path = r'D:\\downloads\\Dataset_extracted_from_original\\scratch2\\1.jpg'\n",
    "\n",
    "# Load the image\n",
    "image = io.imread(image_path)\n",
    "\n",
    "# Extract GLCM features\n",
    "glcm_feats = extract_glcm_features(image)\n",
    "\n",
    "print(glcm_feats)\n",
    "\n"
   ]
  },
  {
   "cell_type": "code",
   "execution_count": 7,
   "metadata": {},
   "outputs": [
    {
     "name": "stdout",
     "output_type": "stream",
     "text": [
      "[17.79258728 64.43963142 19.04263687 66.53385558 19.35662079 66.9439956\n",
      " 20.13740158 68.19604741 19.80325317 67.55356701 20.66819763 68.91917827\n",
      " 18.58610535 65.71951517 19.13625717 66.62882066  4.16798782 32.05974208\n",
      "  0.          0.          0.58850861 12.14654741  0.97317123 15.68512022\n",
      "  2.39437485 24.35558883  0.          0.          0.52170563 11.43210103\n",
      "  0.83732986 14.54873075]\n"
     ]
    }
   ],
   "source": [
    "# Path to the image file\n",
    "image_path = r'D:\\downloads\\Dataset_extracted_from_original\\scratch2\\1.jpg'\n",
    "\n",
    "# Load the image\n",
    "image = io.imread(image_path)\n",
    "\n",
    "\n",
    "\n",
    "# Extract Gabor filter features\n",
    "gabor_feats = extract_gabor_features(image)\n",
    "\n",
    "print(gabor_feats)\n",
    "\n",
    "\n",
    "# print(f\"Concatenated feature vector length: {len(concatenated_features)}\")"
   ]
  },
  {
   "cell_type": "code",
   "execution_count": 8,
   "metadata": {},
   "outputs": [
    {
     "name": "stdout",
     "output_type": "stream",
     "text": [
      "Concatenated feature vector length: 52\n",
      "[43.18161387 83.39718368 44.86841059 81.42215295  2.58680895  3.62148582\n",
      "  2.59619618  3.54648611  0.65784826  0.62153607  0.67090408  0.62195208\n",
      "  0.31806565  0.31100992  0.31959991  0.31106608  0.99015129  0.98099749\n",
      "  0.98976657  0.98144751 17.79258728 64.43963142 19.04263687 66.53385558\n",
      " 19.35662079 66.9439956  20.13740158 68.19604741 19.80325317 67.55356701\n",
      " 20.66819763 68.91917827 18.58610535 65.71951517 19.13625717 66.62882066\n",
      "  4.16798782 32.05974208  0.          0.          0.58850861 12.14654741\n",
      "  0.97317123 15.68512022  2.39437485 24.35558883  0.          0.\n",
      "  0.52170563 11.43210103  0.83732986 14.54873075]\n"
     ]
    }
   ],
   "source": [
    "# Concatenate GLCM and Gabor features\n",
    "concatenated_features = np.concatenate((glcm_feats, gabor_feats))\n",
    "\n",
    "print(f\"Concatenated feature vector length: {len(concatenated_features)}\")\n",
    "print(concatenated_features)"
   ]
  },
  {
   "cell_type": "code",
   "execution_count": null,
   "metadata": {},
   "outputs": [],
   "source": [
    "from sklearn.model_selection import train_test_split\n",
    "from sklearn.svm import SVC\n",
    "\n",
    "# Assuming you have your concatenated features stored in X and labels in y\n",
    "# Split data into training and testing sets\n",
    "X_train, X_test, y_train, y_test = train_test_split(concatenated_features, labels, test_size=0.2, random_state=42)\n",
    "\n",
    "# Initialize SVM classifier\n",
    "svm_classifier = SVC(kernel='linear')\n",
    "\n",
    "# Train the classifier\n",
    "svm_classifier.fit(X_train, y_train)\n",
    "\n",
    "# Predict on test data\n",
    "predictions = svm_classifier.predict(X_test)\n",
    "\n",
    "# Evaluate the classifier (e.g., accuracy, confusion matrix)\n",
    "# ...\n"
   ]
  },
  {
   "cell_type": "code",
   "execution_count": null,
   "metadata": {},
   "outputs": [],
   "source": [
    "import numpy as np\n",
    "from skimage.feature import graycomatrix\n",
    "#from skimage.feature import greycomatrix, greycoprops\n",
    "from skimage.feature import graycoprops\n",
    "from skimage.filters import gabor\n",
    "from skimage import color, io\n",
    "import cv2\n",
    "\n",
    "def extract_glcm_features(image):\n",
    "    \n",
    "    # Convert to RGB if necessary\n",
    "    if image.shape[-1] == 4:\n",
    "        image = cv2.cvtColor(image, cv2.COLOR_RGBA2RGB)\n",
    "        \n",
    "    # Convert the image to grayscale\n",
    "    gray_image = color.rgb2gray(image)\n",
    "    cv2.imshow('RGB Image', image)\n",
    "    cv2.imshow('Grayscale Image', gray_image)\n",
    "    cv2.waitKey(0)\n",
    "    cv2.destroyAllWindows()\n",
    "\n",
    "    # Compute GLCM properties\n",
    "    distances = [1]\n",
    "    angles = [0, np.pi/4, np.pi/2, 3*np.pi/4]\n",
    "    glcm = greycomatrix(gray_image, distances=distances, angles=angles, levels=256, symmetric=True, normed=True)\n",
    "    glcm_props = ['contrast', 'dissimilarity', 'homogeneity', 'energy', 'correlation']\n",
    "    glcm_features = [greycoprops(glcm, prop).ravel() for prop in glcm_props]\n",
    "    return np.concatenate(glcm_features)\n",
    "\n",
    "def extract_gabor_features(image):\n",
    "    # Convert the image to grayscale\n",
    "    gray_image = color.rgb2gray(image)\n",
    "\n",
    "    # Define Gabor filter parameters\n",
    "    frequencies = [0.1, 0.5]\n",
    "    thetas = [0, np.pi/4, np.pi/2, 3*np.pi/4]\n",
    "\n",
    "    # Compute Gabor filter responses\n",
    "    gabor_features = []\n",
    "    for freq in frequencies:\n",
    "        for theta in thetas:\n",
    "            filt_real, filt_imag = gabor(gray_image, frequency=freq, theta=theta)\n",
    "            gabor_features.append(np.mean(filt_real))\n",
    "            gabor_features.append(np.std(filt_real))\n",
    "            gabor_features.append(np.mean(filt_imag))\n",
    "            gabor_features.append(np.std(filt_imag))\n",
    "\n",
    "    return np.array(gabor_features)\n",
    "\n",
    "# Path to the image file\n",
    "image_path = '/media/rashmi/Personal/Pranshu/fina_aug_dataset/valid/glioma/15.png'\n",
    "\n",
    "# Load the image\n",
    "image = io.imread(image_path)\n",
    "\n",
    "# Extract GLCM features\n",
    "glcm_feats = extract_glcm_features(image)\n",
    "\n",
    "# Extract Gabor filter features\n",
    "# omatrix, greycopropsgabor_feats = extract_gabor_features(image)\n",
    "\n",
    "# Concatenate GLCM and Gabor features\n",
    "# concatenated_features = np.concatenate((glcm_feats, gabor_feats))\n",
    "\n",
    "print(f\"Concatenated feature vector length: {len(concatenated_features)}\")"
   ]
  },
  {
   "cell_type": "code",
   "execution_count": null,
   "metadata": {},
   "outputs": [],
   "source": []
  },
  {
   "cell_type": "code",
   "execution_count": null,
   "metadata": {},
   "outputs": [],
   "source": [
    "the input array must have size 3 along `channel_axis`, got (512, 512, 4)"
   ]
  }
 ],
 "metadata": {
  "kernelspec": {
   "display_name": "Python 3 (ipykernel)",
   "language": "python",
   "name": "python3"
  },
  "language_info": {
   "codemirror_mode": {
    "name": "ipython",
    "version": 3
   },
   "file_extension": ".py",
   "mimetype": "text/x-python",
   "name": "python",
   "nbconvert_exporter": "python",
   "pygments_lexer": "ipython3",
   "version": "3.7.16"
  }
 },
 "nbformat": 4,
 "nbformat_minor": 4
}
